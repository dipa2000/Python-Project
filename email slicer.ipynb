{
 "cells": [
  {
   "cell_type": "code",
   "execution_count": 5,
   "metadata": {},
   "outputs": [
    {
     "name": "stdout",
     "output_type": "stream",
     "text": [
      "write your email address:dipa2000.pal2@gmail.com\n",
      "\n",
      "your username is dipa2000.pal2 and domain is gmail.com\n"
     ]
    }
   ],
   "source": [
    "\n",
    "# get user email address\n",
    "email=input(\"write your email address:\").strip()\n",
    "\n",
    "\n",
    "\n",
    "# slice out  user name\n",
    "\n",
    "user=email[:email.index('@')]\n",
    "\n",
    "\n",
    "\n",
    "# slice domaim name\n",
    "\n",
    "domain=email[email.index('@')+1 :]\n",
    "\n",
    "\n",
    "\n",
    "# format message\n",
    "\n",
    "output=\"\\nyour username is {} and domain is {}\".format(user,domain)\n",
    "\n",
    "\n",
    "\n",
    "# display output message\n",
    "\n",
    "\n",
    "print(output)"
   ]
  },
  {
   "cell_type": "code",
   "execution_count": null,
   "metadata": {},
   "outputs": [],
   "source": []
  },
  {
   "cell_type": "code",
   "execution_count": null,
   "metadata": {},
   "outputs": [],
   "source": []
  },
  {
   "cell_type": "code",
   "execution_count": null,
   "metadata": {},
   "outputs": [],
   "source": []
  }
 ],
 "metadata": {
  "kernelspec": {
   "display_name": "Python 3",
   "language": "python",
   "name": "python3"
  },
  "language_info": {
   "codemirror_mode": {
    "name": "ipython",
    "version": 3
   },
   "file_extension": ".py",
   "mimetype": "text/x-python",
   "name": "python",
   "nbconvert_exporter": "python",
   "pygments_lexer": "ipython3",
   "version": "3.8.3"
  }
 },
 "nbformat": 4,
 "nbformat_minor": 4
}

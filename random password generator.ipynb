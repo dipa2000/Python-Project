{
 "cells": [
  {
   "cell_type": "code",
   "execution_count": 1,
   "metadata": {},
   "outputs": [
    {
     "name": "stdout",
     "output_type": "stream",
     "text": [
      "[89, 'guava', 'banana', 546, 'apple', 67, 56]\n"
     ]
    }
   ],
   "source": [
    "import random\n",
    "\n",
    "mylist=['apple','banana', 'guava',67,56,89,546]\n",
    "\n",
    "random.shuffle(mylist)\n",
    " \n",
    "print(mylist)"
   ]
  },
  {
   "cell_type": "code",
   "execution_count": 2,
   "metadata": {},
   "outputs": [
    {
     "name": "stdout",
     "output_type": "stream",
     "text": [
      "abcdefghijklmnopqrstuvwxyz\n",
      "ABCDEFGHIJKLMNOPQRSTUVWXYZ\n"
     ]
    }
   ],
   "source": [
    "import string\n",
    "s1=string.ascii_lowercase\n",
    "print(s1)\n",
    "s2=string.ascii_uppercase\n",
    "print(s2)"
   ]
  },
  {
   "cell_type": "code",
   "execution_count": 10,
   "metadata": {},
   "outputs": [
    {
     "name": "stdout",
     "output_type": "stream",
     "text": [
      "enter the length of the password:6\n",
      "['A', 'B', 'C', 'D', 'E', 'F', 'G', 'H', 'I', 'J', 'K', 'L', 'M', 'N', 'O', 'P', 'Q', 'R', 'S', 'T', 'U', 'V', 'W', 'X', 'Y', 'Z', 'a', 'b', 'c', 'd', 'e', 'f', 'g', 'h', 'i', 'j', 'k', 'l', 'm', 'n', 'o', 'p', 'q', 'r', 's', 't', 'u', 'v', 'w', 'x', 'y', 'z', '0', '1', '2', '3', '4', '5', '6', '7', '8', '9', '!', '\"', '#', '$', '%', '&', \"'\", '(', ')', '*', '+', ',', '-', '.', '/', ':', ';', '<', '=', '>', '?', '@', '[', '\\\\', ']', '^', '_', '`', '{', '|', '}', '~']\n",
      "samples\n",
      " ['5', '\"', '7', '*', '1', '8', '6', 'A', 'S', '3', '2', 'b', 'X', '?', '<', '~', '!', '-', 'j', '0', 'F', '>', '$', 'W', 'x', 'K', 'D', 'k', '@', 'u', 'Q', ';', '}', \"'\", 'l', '=', '[', 'f', '9', ':', 'p', 'n', '^', '&', 't', '`', '/', 'V', 'R', 'C', ']', 'a', 'Z', 'o', 'c', 'T', 'G', 'e', 'w', 'h', '4', 'z', 'q', 'B', 'v', 'r', 'g', 'O', ')', ',', '\\\\', 'Y', '|', 'm', 'U', 'd', 'E', 'N', 'L', 'y', '_', 's', 'M', 'P', 'H', '+', 'J', '#', 'I', '{', '(', 'i', '.', '%']\n",
      "['5', '\"', '7', '*', '1', '8']\n",
      "\n",
      "your password is:\n",
      "5\"7*18\n"
     ]
    }
   ],
   "source": [
    "import string  #module \n",
    "import random  #module which provide shuffle attribute\n",
    "\n",
    "s1=string.ascii_uppercase\n",
    "s2=string.ascii_lowercase\n",
    "s3=string.digits\n",
    "s4=string.punctuation\n",
    "\n",
    "len=int(input(\"enter the length of the password:\"))\n",
    "s=[]\n",
    "s.extend(list(s1))\n",
    "s.extend(list(s2))\n",
    "s.extend(list(s3))\n",
    "s.extend(list(s4))\n",
    "print(s)\n",
    "\n",
    "random.shuffle(s)\n",
    "\n",
    "print(\"samples\\n\",s)\n",
    "\n",
    "print(s[0:len])  # random password creator\n",
    "\n",
    "print(\"\\nyour password is:\")\n",
    "print(\"\".join(s[0:len])) # random password creator"
   ]
  },
  {
   "cell_type": "code",
   "execution_count": null,
   "metadata": {},
   "outputs": [],
   "source": []
  }
 ],
 "metadata": {
  "kernelspec": {
   "display_name": "Python 3",
   "language": "python",
   "name": "python3"
  },
  "language_info": {
   "codemirror_mode": {
    "name": "ipython",
    "version": 3
   },
   "file_extension": ".py",
   "mimetype": "text/x-python",
   "name": "python",
   "nbconvert_exporter": "python",
   "pygments_lexer": "ipython3",
   "version": "3.8.3"
  }
 },
 "nbformat": 4,
 "nbformat_minor": 4
}
